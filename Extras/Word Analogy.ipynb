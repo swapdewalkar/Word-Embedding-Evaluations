{
 "cells": [
  {
   "cell_type": "code",
   "execution_count": 1,
   "metadata": {},
   "outputs": [],
   "source": [
    "from scipy.spatial import distance\n",
    "import operator\n",
    "import numpy as np\n",
    "def getVector(file):\n",
    "    data={}\n",
    "    vocab=[]\n",
    "    data1=open(file).read().split(\"\\n\")\n",
    "    for i in range(len(data1)):\n",
    "        d1=data1[i].split(\" \")\n",
    "        word1=d1[0]\n",
    "        vec=np.array(d1[1:-1],dtype=float)\n",
    "        if(len(word1)>0):\n",
    "            data[word1]=vec;\n",
    "            vocab.append(word1)\n",
    "    return data,vocab"
   ]
  },
  {
   "cell_type": "code",
   "execution_count": 2,
   "metadata": {},
   "outputs": [],
   "source": [
    "data,vocab=getVector('_H_training_tsigmoid_learn0.01_F199.txt')"
   ]
  },
  {
   "cell_type": "code",
   "execution_count": 3,
   "metadata": {},
   "outputs": [],
   "source": [
    "f=open('questions-words.txt')\n",
    "queword=f.read()\n",
    "ques=queword.split(\"\\n\")\n",
    "D={}\n",
    "p=\"\"\n",
    "for q in ques:\n",
    "    a=q.split(\" \")\n",
    "    if(a[0]==':'):\n",
    "        D[a[1]]=[]\n",
    "        p=a[1]\n",
    "    else:\n",
    "        if(len(a)>=4):\n",
    "            D[p].append(a)"
   ]
  },
  {
   "cell_type": "code",
   "execution_count": 5,
   "metadata": {
    "scrolled": false
   },
   "outputs": [
    {
     "name": "stdout",
     "output_type": "stream",
     "text": [
      "gram8-plural : Total- 1332 Found- 342 Correct- 0 Accuracy- 0.0\n",
      "capital-world : Total- 4524 Found- 0 Correct- 0\n",
      "gram1-adjective-to-adverb : Total- 992 Found- 756 Correct- 3 Accuracy- 0.3968253968253968\n",
      "gram2-opposite : Total- 812 Found- 156 Correct- 0 Accuracy- 0.0\n",
      "gram7-past-tense : Total- 1560 Found- 756 Correct- 0 Accuracy- 0.0\n",
      "gram4-superlative : Total- 1122 Found- 462 Correct- 0 Accuracy- 0.0\n",
      "city-in-state : Total- 2467 Found- 0 Correct- 0\n",
      "family : Total- 506 Found- 132 Correct- 0 Accuracy- 0.0\n",
      "gram3-comparative : Total- 1332 Found- 1260 Correct- 0 Accuracy- 0.0\n",
      "capital-common-countries : Total- 506 Found- 0 Correct- 0\n",
      "gram6-nationality-adjective : Total- 1599 Found- 0 Correct- 0\n",
      "gram5-present-participle : Total- 1056 Found- 552 Correct- 1 Accuracy- 0.18115942028985507\n",
      "gram9-plural-verbs : Total- 870 Found- 506 Correct- 0 Accuracy- 0.0\n",
      "currency : Total- 866 Found- 0 Correct- 0\n"
     ]
    }
   ],
   "source": [
    "for k in D:\n",
    "    correct=0\n",
    "    total=0\n",
    "    similar={}\n",
    "    for p in D[k]:\n",
    "        a,b,c,d=p\n",
    "        if a in data and b in data and c in data and d in data:\n",
    "#             print(a,b,c,d)\n",
    "            total+=1\n",
    "            w=data[a]-data[b]+data[c]\n",
    "            v=data[d]\n",
    "            for i in data:\n",
    "#               sim[i]=distance.cosine(h_r,data[i])\n",
    "                similar[i]=distance.euclidean(w,data[i])\n",
    "            sim=sorted(similar.items(), key=operator.itemgetter(1))\n",
    "            i=0\n",
    "            for a,b in sim:\n",
    "                if i<1:\n",
    "                    if a==d:\n",
    "                        correct+=1\n",
    "                        break\n",
    "                    i+=1\n",
    "    if total!=0: \n",
    "        print(k,\":\",\"Total-\",len(D[k]),\"Found-\",total,\"Correct-\",correct,\"Accuracy-\",correct*100/total)\n",
    "    else:\n",
    "        print(k,\":\",\"Total-\",len(D[k]),\"Found-\",total,\"Correct-\",correct)\n",
    "        "
   ]
  },
  {
   "cell_type": "code",
   "execution_count": null,
   "metadata": {},
   "outputs": [],
   "source": [
    "gram8-plural : Total- 1332 Found- 342 Correct- 127 Accuracy- 37.134502923976605\n",
    "capital-world : Total- 4524 Found- 0 Correct- 0\n",
    "gram1-adjective-to-adverb : Total- 992 Found- 756 Correct- 64 Accuracy- 8.465608465608465\n",
    "gram2-opposite : Total- 812 Found- 156 Correct- 1 Accuracy- 0.6410256410256411\n",
    "gram7-past-tense : Total- 1560 Found- 756 Correct- 321 Accuracy- 42.46031746031746\n",
    "gram4-superlative : Total- 1122 Found- 462 Correct- 0 Accuracy- 0.0\n",
    "city-in-state : Total- 2467 Found- 0 Correct- 0\n",
    "family : Total- 506 Found- 132 Correct- 0 Accuracy- 0.0\n",
    "gram3-comparative : Total- 1332 Found- 1260 Correct- 91 Accuracy- 7.222222222222222\n",
    "capital-common-countries : Total- 506 Found- 0 Correct- 0\n",
    "gram6-nationality-adjective : Total- 1599 Found- 0 Correct- 0\n",
    "gram5-present-participle : Total- 1056 Found- 552 Correct- 193 Accuracy- 34.96376811594203\n",
    "gram9-plural-verbs : Total- 870 Found- 506 Correct- 148 Accuracy- 29.24901185770751\n",
    "currency : Total- 866 Found- 0 Correct- 0"
   ]
  },
  {
   "cell_type": "code",
   "execution_count": null,
   "metadata": {},
   "outputs": [],
   "source": []
  },
  {
   "cell_type": "code",
   "execution_count": null,
   "metadata": {},
   "outputs": [],
   "source": []
  }
 ],
 "metadata": {
  "kernelspec": {
   "display_name": "Python 3",
   "language": "python",
   "name": "python3"
  },
  "language_info": {
   "codemirror_mode": {
    "name": "ipython",
    "version": 3
   },
   "file_extension": ".py",
   "mimetype": "text/x-python",
   "name": "python",
   "nbconvert_exporter": "python",
   "pygments_lexer": "ipython3",
   "version": "3.5.5"
  }
 },
 "nbformat": 4,
 "nbformat_minor": 2
}
