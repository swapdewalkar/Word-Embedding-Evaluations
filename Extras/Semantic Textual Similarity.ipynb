{
 "cells": [
  {
   "cell_type": "code",
   "execution_count": 1,
   "metadata": {},
   "outputs": [],
   "source": [
    "from scipy.spatial import distance\n",
    "import operator\n",
    "import numpy as np\n",
    "def getVector(file):\n",
    "    data={}\n",
    "    vocab=[]\n",
    "    data1=open(file).read().split(\"\\n\")\n",
    "    for i in range(len(data1)):\n",
    "        d1=data1[i].split(\" \")\n",
    "        word1=d1[0]\n",
    "        vec=np.array(d1[1:-1],dtype=float)\n",
    "        if(len(word1)>0):\n",
    "            data[word1]=vec;\n",
    "            vocab.append(word1)\n",
    "    return data,vocab"
   ]
  },
  {
   "cell_type": "code",
   "execution_count": 2,
   "metadata": {},
   "outputs": [],
   "source": [
    "data,vocab=getVector('_H_training_tsigmoid_learn0.01_F199.txt')"
   ]
  },
  {
   "cell_type": "code",
   "execution_count": 3,
   "metadata": {},
   "outputs": [
    {
     "name": "stdout",
     "output_type": "stream",
     "text": [
      "cluto-2.1.2\t\t\t\t stscompanion\r\n",
      "Concept Categorization.ipynb\t\t test.txt\r\n",
      "_H_training_tsigmoid_learn0.01_F199.txt  test.txt.clustering.2\r\n",
      "questions-words.txt\t\t\t Word Analogy.ipynb\r\n",
      "Semantic Textual Similarity.ipynb\t word-benchmarks-master\r\n",
      "STS\r\n"
     ]
    }
   ],
   "source": [
    "!ls"
   ]
  },
  {
   "cell_type": "code",
   "execution_count": 40,
   "metadata": {},
   "outputs": [
    {
     "name": "stdout",
     "output_type": "stream",
     "text": [
      "2013_FNWN_FYC ->  Pearson: 0.17588\n",
      "\n",
      "2013_headlines_FYB ->  Pearson: 0.36473\n",
      "\n",
      "2016_question-question_FYC ->  Pearson: -0.02592\n",
      "\n",
      "2012_MSRvid_FYB ->  Pearson: 0.13787\n",
      "\n",
      "2016_plagiarism_FYC ->  Pearson: 0.48814\n",
      "\n",
      "2012_SMTeuroparl_FYC ->  Pearson: 0.32302\n",
      "\n",
      "2012_surprise.OnWN_FYC ->  Pearson: 0.52612\n",
      "\n",
      "2012_surprise.SMTnews_FYC ->  Pearson: 0.31020\n",
      "\n",
      "2016_answer-answer_FYB ->  Pearson: 0.30785\n",
      "\n",
      "2016_headlines_FYB ->  Pearson: 0.41294\n",
      "\n",
      "SICK__FYC ->  Pearson: 0.03075\n",
      "\n",
      "2014_deft-news_FYB ->  Pearson: 0.39412\n",
      "\n",
      "2017_track5.en-en_FYB ->  Pearson: 0.56863\n",
      "\n",
      "2012_MSRpar_FYB ->  Pearson: 0.02557\n",
      "\n",
      "2013_OnWN_FYC ->  Pearson: 0.24052\n",
      "\n",
      "2014_deft-forum_FYB ->  Pearson: 0.09034\n",
      "\n",
      "2015_answers-forums_FYB ->  Pearson: 0.09838\n",
      "\n",
      "2015_images_FYB ->  Pearson: 0.50489\n",
      "\n",
      "2014_headlines_FYB ->  Pearson: 0.36454\n",
      "\n",
      "2014_images_FYB ->  Pearson: 0.35755\n",
      "\n",
      "2014_tweet-news_FYC ->  Pearson: 0.59940\n",
      "\n",
      "2015_belief_FYC ->  Pearson: 0.45412\n",
      "\n",
      "2014_OnWN_FYC ->  Pearson: 0.37674\n",
      "\n",
      "2015_headlines_FYB ->  Pearson: 0.46364\n",
      "\n",
      "2016_postediting_FYC ->  Pearson: 0.31189\n",
      "\n"
     ]
    }
   ],
   "source": [
    "import csv\n",
    "import numpy as np\n",
    "from os import listdir\n",
    "from os.path import isfile, join\n",
    "import os\n",
    "files = [f for f in listdir('STS')]\n",
    "for file in files:\n",
    "    if(file[0:2]=='FY' ):\n",
    "        f=open('STS/'+file,'r')\n",
    "        f1=open('STS/O'+file[:-4]+'.txt','w')\n",
    "        c=0\n",
    "#         print(file)\n",
    "        reader=csv.reader(f,delimiter='\\t')\n",
    "        for row in reader:\n",
    "            p=\"\\t\".join(row)\n",
    "            row=p.split('\\t')\n",
    "\n",
    "            if(file[2]=='B'):\n",
    "                try:\n",
    "                    s1,s2=row[5],row[6]\n",
    "                except:\n",
    "                    print(file,row)\n",
    "            else:\n",
    "                s1,s2=row[4],row[5]\n",
    "            w1s=s1.split()\n",
    "            w2s=s2.split()\n",
    "        #     print(w1s)\n",
    "            r=[str(w).lower() for w in w1s]\n",
    "            r1=[data[re] for re in r if re in data]\n",
    "            r=[str(w).lower() for w in w2s]\n",
    "            r2=[data[re] for re in r if re in data]\n",
    "            sim=0\n",
    "            if len(r1)>0 and len(r2)>0:\n",
    "                rr1=np.vstack(r1)\n",
    "                rr2=np.vstack(r2)\n",
    "                rep1=rr1.sum(axis=0)\n",
    "                rep2=rr2.sum(axis=0)\n",
    "                sim=1-distance.cosine(rep1,rep2)\n",
    "    #             print(c,len(rep1),len(rep2))\n",
    "            c += 1\n",
    "            f1.write(str(sim))\n",
    "            f1.write(\"\\n\")\n",
    "        f1.close()\n",
    "        f.close()\n",
    "        \n",
    "        if(file[2]=='B'):\n",
    "            cor_eval='ben.pl'\n",
    "        else:\n",
    "            cor_eval='com.pl'\n",
    "        s=os.popen('perl STS/'+cor_eval+' STS/'+file+' STS/O'+file[:-4]+'.txt').read()\n",
    "        print(file[-8:-4]+\"_\"+file[3:-8]+\"_\"+file[:3],\"-> \",s)"
   ]
  },
  {
   "cell_type": "code",
   "execution_count": null,
   "metadata": {},
   "outputs": [],
   "source": []
  },
  {
   "cell_type": "code",
   "execution_count": 5,
   "metadata": {},
   "outputs": [
    {
     "ename": "FileNotFoundError",
     "evalue": "[Errno 2] No such file or directory: 'foo.csv'",
     "output_type": "error",
     "traceback": [
      "\u001b[0;31m---------------------------------------------------------------------------\u001b[0m",
      "\u001b[0;31mFileNotFoundError\u001b[0m                         Traceback (most recent call last)",
      "\u001b[0;32m<ipython-input-5-0afd66eb880b>\u001b[0m in \u001b[0;36m<module>\u001b[0;34m()\u001b[0m\n\u001b[1;32m      2\u001b[0m \u001b[0;32mfrom\u001b[0m \u001b[0mitertools\u001b[0m \u001b[0;32mimport\u001b[0m \u001b[0mgroupby\u001b[0m\u001b[0;34m\u001b[0m\u001b[0m\n\u001b[1;32m      3\u001b[0m \u001b[0;34m\u001b[0m\u001b[0m\n\u001b[0;32m----> 4\u001b[0;31m \u001b[0;32mfor\u001b[0m \u001b[0mkey\u001b[0m\u001b[0;34m,\u001b[0m \u001b[0mrows\u001b[0m \u001b[0;32min\u001b[0m \u001b[0mgroupby\u001b[0m\u001b[0;34m(\u001b[0m\u001b[0mcsv\u001b[0m\u001b[0;34m.\u001b[0m\u001b[0mreader\u001b[0m\u001b[0;34m(\u001b[0m\u001b[0mopen\u001b[0m\u001b[0;34m(\u001b[0m\u001b[0;34m\"foo.csv\"\u001b[0m\u001b[0;34m)\u001b[0m\u001b[0;34m)\u001b[0m\u001b[0;34m,\u001b[0m \u001b[0;32mlambda\u001b[0m \u001b[0mrow\u001b[0m\u001b[0;34m:\u001b[0m \u001b[0mrow\u001b[0m\u001b[0;34m[\u001b[0m\u001b[0;36m0\u001b[0m\u001b[0;34m]\u001b[0m\u001b[0;34m)\u001b[0m\u001b[0;34m:\u001b[0m\u001b[0;34m\u001b[0m\u001b[0m\n\u001b[0m\u001b[1;32m      5\u001b[0m     \u001b[0;32mwith\u001b[0m \u001b[0mopen\u001b[0m\u001b[0;34m(\u001b[0m\u001b[0;34m\"%s.txt\"\u001b[0m \u001b[0;34m%\u001b[0m \u001b[0mkey\u001b[0m\u001b[0;34m,\u001b[0m \u001b[0;34m\"w\"\u001b[0m\u001b[0;34m)\u001b[0m \u001b[0;32mas\u001b[0m \u001b[0moutput\u001b[0m\u001b[0;34m:\u001b[0m\u001b[0;34m\u001b[0m\u001b[0m\n\u001b[1;32m      6\u001b[0m         \u001b[0;32mfor\u001b[0m \u001b[0mrow\u001b[0m \u001b[0;32min\u001b[0m \u001b[0mrows\u001b[0m\u001b[0;34m:\u001b[0m\u001b[0;34m\u001b[0m\u001b[0m\n",
      "\u001b[0;31mFileNotFoundError\u001b[0m: [Errno 2] No such file or directory: 'foo.csv'"
     ]
    }
   ],
   "source": [
    "import csv\n",
    "from itertools import groupby\n",
    "\n",
    "for key, rows in groupby(csv.reader(open(\"foo.csv\")), lambda row: row[0]):\n",
    "    with open(\"%s.txt\" % key, \"w\") as output:\n",
    "        for row in rows:\n",
    "            output.write(\",\".join(row) + \"\\n\")"
   ]
  },
  {
   "cell_type": "code",
   "execution_count": null,
   "metadata": {},
   "outputs": [],
   "source": [
    "cs17mtech11004@digserver:~/code/Evaluation$ awk -F \"\\t\" '{print $0 >> (\"F\" $1$2 \"MT.csv\")}' stscompanion/sts-mt.csv\n",
    "cs17mtech11004@digserver:~/code/Evaluation$ awk -F \"\\t\" '{print $0 >> (\"F\" $1$2 \"Other.csv\")}' stscompanion/sts-other.csv"
   ]
  }
 ],
 "metadata": {
  "kernelspec": {
   "display_name": "Python 3",
   "language": "python",
   "name": "python3"
  },
  "language_info": {
   "codemirror_mode": {
    "name": "ipython",
    "version": 3
   },
   "file_extension": ".py",
   "mimetype": "text/x-python",
   "name": "python",
   "nbconvert_exporter": "python",
   "pygments_lexer": "ipython3",
   "version": "3.5.5"
  }
 },
 "nbformat": 4,
 "nbformat_minor": 2
}
