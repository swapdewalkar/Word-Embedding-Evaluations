{
 "cells": [
  {
   "cell_type": "code",
   "execution_count": 1,
   "metadata": {},
   "outputs": [],
   "source": [
    "import sys\n",
    "import os\n",
    "folder=\"./NvsCO/\"\n",
    "files=sorted(os.listdir(folder))\n",
    "D={}\n",
    "sts={}\n",
    "ws={}\n",
    "cc={}\n",
    "wa={}\n",
    "def create_dict_from_array(arr,T):\n",
    "    d={}\n",
    "    t={}\n",
    "    c={}\n",
    "    f={}\n",
    "    flag=0\n",
    "    for a in arr:\n",
    "        # if flag==0:\n",
    "        #     flag=1\n",
    "        #     continue\n",
    "\n",
    "#         print(a)\n",
    "        k,v=a.split(\":\")[:2]\n",
    "        k=k.strip()\n",
    "        v=float(v.strip())\n",
    "        # print(k,v)\n",
    "        d[k]=\"\"\n",
    "        d[k]=v\n",
    "        # print(d)\n",
    "        if T=='STS':\n",
    "            sts[k]=\"\"\n",
    "        elif T=='WS':\n",
    "            ws[k]=\"\"\n",
    "        elif T=='WA':\n",
    "            count=a.split(\":\")[2].strip()\n",
    "            p,q,r,s=count.split(\"- \")\n",
    "            total=int(q.split()[0])\n",
    "            found=int(r.split()[0])\n",
    "            correct=int(s)\n",
    "#             print(total,found,correct)\n",
    "            wa[k]=\"\"\n",
    "            t[k]=total\n",
    "            f[k]=found\n",
    "            c[k]=correct\n",
    "        else:\n",
    "            cc[k]=\"\"\n",
    "\n",
    "    if T=='WA':\n",
    "        return d,t,f,c \n",
    "    return d\n",
    "\n",
    "for file in files:\n",
    "    D[file]={}\n",
    "    # print(file)\n",
    "    f=open(folder+file)\n",
    "    data=f.read().split(\"\\n\")\n",
    "    STS = data[1:27]\n",
    "    WS  = data[28:41]\n",
    "    CC  = data[42:45]\n",
    "    WA  = data[46:60]\n",
    "    # print(STS,WA,WS,CC)\n",
    "    D[file]['STS']=create_dict_from_array(STS,\"STS\")\n",
    "    D[file]['WS']=create_dict_from_array(WS,\"WS\")\n",
    "    D[file]['CC']=create_dict_from_array(CC,\"CC\")\n",
    "    D[file]['WA'],D[file]['TOTAL'],D[file]['FOUND'],D[file]['CORRECT']=create_dict_from_array(WA,\"WA\") \n",
    "sts=sorted(sts)\n",
    "ws=sorted(ws)\n",
    "cc=sorted(cc)\n",
    "wa=sorted(wa)\n",
    "dataset={'STS':sts,'WS':ws,'CC':cc,'WA':wa,'TOTAL':wa,'FOUND':wa,'CORRECT':wa}\n",
    "K=['STS','WS','CC','WA','TOTAL','FOUND','CORRECT']"
   ]
  },
  {
   "cell_type": "code",
   "execution_count": 2,
   "metadata": {},
   "outputs": [
    {
     "name": "stdout",
     "output_type": "stream",
     "text": [
      "D 105\n",
      "105\n",
      "105\n",
      "105\n",
      "105\n"
     ]
    }
   ],
   "source": [
    "methods=list(D.keys())\n",
    "A={}\n",
    "rows=[]\n",
    "flag=0\n",
    "for m in methods:\n",
    "    a=[]\n",
    "    for k in K:\n",
    "        a.append(k)\n",
    "        if flag==0:\n",
    "            rows.append(k)\n",
    "        for ds in dataset[k]:\n",
    "#             print(ds,\":\",D[m][k][ds])\n",
    "            a.append(D[m][k][ds])    \n",
    "            if flag==0:\n",
    "                rows.append(ds)\n",
    "    if flag==0:\n",
    "        A['Eval_Dataset']=rows\n",
    "        flag=1\n",
    "        print(\"D\",len(rows))\n",
    "    A[m]=a\n",
    "    print(len(a))"
   ]
  },
  {
   "cell_type": "code",
   "execution_count": 3,
   "metadata": {},
   "outputs": [
    {
     "name": "stdout",
     "output_type": "stream",
     "text": [
      "105\n",
      "105\n",
      "105\n",
      "105\n",
      "105\n"
     ]
    }
   ],
   "source": [
    "for a in A:\n",
    "    print(len(A[a]))\n",
    "    if len(A[a])>105:\n",
    "        print(A[a])"
   ]
  },
  {
   "cell_type": "code",
   "execution_count": 4,
   "metadata": {},
   "outputs": [],
   "source": [
    "import pandas as pd\n",
    "df=pd.DataFrame(A)"
   ]
  },
  {
   "cell_type": "code",
   "execution_count": 5,
   "metadata": {},
   "outputs": [],
   "source": [
    "df.to_csv('nvsco_results_100.csv')"
   ]
  },
  {
   "cell_type": "code",
   "execution_count": 6,
   "metadata": {},
   "outputs": [
    {
     "data": {
      "text/html": [
       "<div>\n",
       "<style scoped>\n",
       "    .dataframe tbody tr th:only-of-type {\n",
       "        vertical-align: middle;\n",
       "    }\n",
       "\n",
       "    .dataframe tbody tr th {\n",
       "        vertical-align: top;\n",
       "    }\n",
       "\n",
       "    .dataframe thead th {\n",
       "        text-align: right;\n",
       "    }\n",
       "</style>\n",
       "<table border=\"1\" class=\"dataframe\">\n",
       "  <thead>\n",
       "    <tr style=\"text-align: right;\">\n",
       "      <th></th>\n",
       "      <th>Eval_Dataset</th>\n",
       "      <th>OUT_CO_NEW1_embedding_Reviews_NEW_OUTPUT_11_WN_DP_Unique_Useful_CO.vec.json_entities_vecReviews_NEW_OUTPUT_11_WN_DP_Unique_Useful_CO.txt</th>\n",
       "      <th>OUT_CO_SWAP_NEW_embedding_Wikipedia_WN_DP_Unique_Useful_CO.vec.json_entities_vecWikipedia_WN_DP_Unique_Useful_CO.txt</th>\n",
       "      <th>OUT_Lower_Uppdated_embedding_Reviews_NEW_OUTPUT_11_WN_DP_Unique_Useful.vec.json_entities_vecReviews_NEW_OUTPUT_11_WN_DP_Unique_Useful.txt</th>\n",
       "      <th>OUT_Lower_Uppdated_embedding_Wikipedia_WN_DP_Unique_Useful.vec.json_entities_vecWikipedia_WN_DP_Unique_Useful.txt</th>\n",
       "    </tr>\n",
       "  </thead>\n",
       "  <tbody>\n",
       "    <tr>\n",
       "      <th>0</th>\n",
       "      <td>STS</td>\n",
       "      <td>STS</td>\n",
       "      <td>STS</td>\n",
       "      <td>STS</td>\n",
       "      <td>STS</td>\n",
       "    </tr>\n",
       "    <tr>\n",
       "      <th>1</th>\n",
       "      <td>2012_MSRpar_FYB</td>\n",
       "      <td>0.03659</td>\n",
       "      <td>0.00959</td>\n",
       "      <td>0.04769</td>\n",
       "      <td>0.02603</td>\n",
       "    </tr>\n",
       "    <tr>\n",
       "      <th>2</th>\n",
       "      <td>2012_MSRvid_FYB</td>\n",
       "      <td>0.19715</td>\n",
       "      <td>0.06182</td>\n",
       "      <td>0.13511</td>\n",
       "      <td>0.15111</td>\n",
       "    </tr>\n",
       "    <tr>\n",
       "      <th>3</th>\n",
       "      <td>2012_SMTeuroparl_FYC</td>\n",
       "      <td>0.26591</td>\n",
       "      <td>0.39425</td>\n",
       "      <td>0.30722</td>\n",
       "      <td>0.4457</td>\n",
       "    </tr>\n",
       "    <tr>\n",
       "      <th>4</th>\n",
       "      <td>2012_surprise.OnWN_FYC</td>\n",
       "      <td>0.45702</td>\n",
       "      <td>0.48013</td>\n",
       "      <td>0.50467</td>\n",
       "      <td>0.50747</td>\n",
       "    </tr>\n",
       "  </tbody>\n",
       "</table>\n",
       "</div>"
      ],
      "text/plain": [
       "             Eval_Dataset  \\\n",
       "0                     STS   \n",
       "1         2012_MSRpar_FYB   \n",
       "2         2012_MSRvid_FYB   \n",
       "3    2012_SMTeuroparl_FYC   \n",
       "4  2012_surprise.OnWN_FYC   \n",
       "\n",
       "  OUT_CO_NEW1_embedding_Reviews_NEW_OUTPUT_11_WN_DP_Unique_Useful_CO.vec.json_entities_vecReviews_NEW_OUTPUT_11_WN_DP_Unique_Useful_CO.txt  \\\n",
       "0                                                STS                                                                                         \n",
       "1                                            0.03659                                                                                         \n",
       "2                                            0.19715                                                                                         \n",
       "3                                            0.26591                                                                                         \n",
       "4                                            0.45702                                                                                         \n",
       "\n",
       "  OUT_CO_SWAP_NEW_embedding_Wikipedia_WN_DP_Unique_Useful_CO.vec.json_entities_vecWikipedia_WN_DP_Unique_Useful_CO.txt  \\\n",
       "0                                                STS                                                                     \n",
       "1                                            0.00959                                                                     \n",
       "2                                            0.06182                                                                     \n",
       "3                                            0.39425                                                                     \n",
       "4                                            0.48013                                                                     \n",
       "\n",
       "  OUT_Lower_Uppdated_embedding_Reviews_NEW_OUTPUT_11_WN_DP_Unique_Useful.vec.json_entities_vecReviews_NEW_OUTPUT_11_WN_DP_Unique_Useful.txt  \\\n",
       "0                                                STS                                                                                          \n",
       "1                                            0.04769                                                                                          \n",
       "2                                            0.13511                                                                                          \n",
       "3                                            0.30722                                                                                          \n",
       "4                                            0.50467                                                                                          \n",
       "\n",
       "  OUT_Lower_Uppdated_embedding_Wikipedia_WN_DP_Unique_Useful.vec.json_entities_vecWikipedia_WN_DP_Unique_Useful.txt  \n",
       "0                                                STS                                                                 \n",
       "1                                            0.02603                                                                 \n",
       "2                                            0.15111                                                                 \n",
       "3                                             0.4457                                                                 \n",
       "4                                            0.50747                                                                 "
      ]
     },
     "execution_count": 6,
     "metadata": {},
     "output_type": "execute_result"
    }
   ],
   "source": [
    "df.head()"
   ]
  },
  {
   "cell_type": "code",
   "execution_count": 51,
   "metadata": {},
   "outputs": [],
   "source": [
    "df1=pd.DataFrame(D)"
   ]
  },
  {
   "cell_type": "code",
   "execution_count": 52,
   "metadata": {},
   "outputs": [],
   "source": [
    "df1.to_csv('all_method_results.csv')"
   ]
  },
  {
   "cell_type": "code",
   "execution_count": null,
   "metadata": {},
   "outputs": [],
   "source": []
  },
  {
   "cell_type": "code",
   "execution_count": null,
   "metadata": {},
   "outputs": [],
   "source": [
    "import sys\n",
    "import os\n",
    "files=sorted(os.listdir(\"Results_Final1/\"))\n",
    "for file in files:\n",
    "    "
   ]
  }
 ],
 "metadata": {
  "kernelspec": {
   "display_name": "Python 3",
   "language": "python",
   "name": "python3"
  },
  "language_info": {
   "codemirror_mode": {
    "name": "ipython",
    "version": 3
   },
   "file_extension": ".py",
   "mimetype": "text/x-python",
   "name": "python",
   "nbconvert_exporter": "python",
   "pygments_lexer": "ipython3",
   "version": "3.5.5"
  }
 },
 "nbformat": 4,
 "nbformat_minor": 2
}
